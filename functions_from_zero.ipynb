{
  "nbformat": 4,
  "nbformat_minor": 0,
  "metadata": {
    "colab": {
      "provenance": [],
      "authorship_tag": "ABX9TyOPr4JK8j7BaoGIaH9DTGbH",
      "include_colab_link": true
    },
    "kernelspec": {
      "name": "python3",
      "display_name": "Python 3"
    },
    "language_info": {
      "name": "python"
    }
  },
  "cells": [
    {
      "cell_type": "markdown",
      "metadata": {
        "id": "view-in-github",
        "colab_type": "text"
      },
      "source": [
        "<a href=\"https://colab.research.google.com/github/01010010obin/functions-from-zero/blob/main/functions_from_zero.ipynb\" target=\"_parent\"><img src=\"https://colab.research.google.com/assets/colab-badge.svg\" alt=\"Open In Colab\"/></a>"
      ]
    },
    {
      "cell_type": "markdown",
      "source": [
        "## Learning Statements"
      ],
      "metadata": {
        "id": "wMX-VPKb5oAL"
      }
    },
    {
      "cell_type": "code",
      "source": [
        "dict={1:\"one\",2:\"two\"}"
      ],
      "metadata": {
        "id": "J9yd7c1a7fxb"
      },
      "execution_count": 1,
      "outputs": []
    },
    {
      "cell_type": "code",
      "execution_count": 2,
      "metadata": {
        "colab": {
          "base_uri": "https://localhost:8080/"
        },
        "id": "3KqFFVQ45I8_",
        "outputId": "66ceb6b7-3c71-4e8e-8a68-87b8c616fc36"
      },
      "outputs": [
        {
          "output_type": "stream",
          "name": "stdout",
          "text": [
            "key: 1, value: one\n",
            "key: 2, value: two\n"
          ]
        }
      ],
      "source": [
        "for key,value in dict.items():\n",
        "  print(f\"key: {key}, value: {value}\")"
      ]
    },
    {
      "cell_type": "code",
      "source": [],
      "metadata": {
        "id": "UZJCeD_AqzoW"
      },
      "execution_count": 2,
      "outputs": []
    },
    {
      "cell_type": "markdown",
      "source": [
        "### Styles of Functions"
      ],
      "metadata": {
        "id": "yFyUW-fRq3uN"
      }
    },
    {
      "cell_type": "code",
      "source": [
        "def simple(): pass"
      ],
      "metadata": {
        "id": "V2cf6ANi5Qbx"
      },
      "execution_count": 3,
      "outputs": []
    },
    {
      "cell_type": "code",
      "source": [
        "simple()"
      ],
      "metadata": {
        "id": "jGrlQAw05Qe8"
      },
      "execution_count": 4,
      "outputs": []
    },
    {
      "cell_type": "code",
      "source": [
        "def my_worker(fruit):\n",
        "  statement=f\"My favorite meal is chicken and {fruit}\"\n",
        "  meals={\"dinner\":statement}\n",
        "  return meals"
      ],
      "metadata": {
        "id": "ec9LzXGJ5Qir"
      },
      "execution_count": 6,
      "outputs": []
    },
    {
      "cell_type": "code",
      "source": [
        "my_worker(\"apple\")"
      ],
      "metadata": {
        "id": "kGxBa1PF5Qlm",
        "colab": {
          "base_uri": "https://localhost:8080/"
        },
        "outputId": "e37fdd2d-81d5-4577-a9bc-6cc621b99fc3"
      },
      "execution_count": 7,
      "outputs": [
        {
          "output_type": "execute_result",
          "data": {
            "text/plain": [
              "{'dinner': 'My favorite meal is chicken and apple'}"
            ]
          },
          "metadata": {},
          "execution_count": 7
        }
      ]
    },
    {
      "cell_type": "code",
      "source": [],
      "metadata": {
        "id": "lgj_H67e5Qqy"
      },
      "execution_count": null,
      "outputs": []
    },
    {
      "cell_type": "code",
      "source": [],
      "metadata": {
        "id": "jLnfQOiC5Qwr"
      },
      "execution_count": null,
      "outputs": []
    },
    {
      "cell_type": "code",
      "source": [],
      "metadata": {
        "id": "SYEL7aYV5Qzh"
      },
      "execution_count": null,
      "outputs": []
    },
    {
      "cell_type": "code",
      "source": [],
      "metadata": {
        "id": "SWfZJk1P5Q2V"
      },
      "execution_count": null,
      "outputs": []
    }
  ]
}